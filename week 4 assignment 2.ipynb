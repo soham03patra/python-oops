{
 "cells": [
  {
   "cell_type": "code",
   "execution_count": 1,
   "id": "422c418e-df14-486f-9c9e-c6cf7ee42d2a",
   "metadata": {},
   "outputs": [],
   "source": [
    "\"\"\"A Class in object oriented programming is a blueprint or prototype that defines thevariables and the methods (functions)\n",
    "common to all Java Objects of a certain kind. An object in OOPS is a specimen of a class.\n",
    "Software objects are often used to model real-world objects you find in everyday life.\"\"\"\n",
    "\n",
    "class example:\n",
    "    def __init__(self,student_name , course_name):\n",
    "        self.student_name=student_name\n",
    "        self.course_name=course_name\n",
    "        \n",
    "    def return_details(self):\n",
    "        return self.student_name,self.course_name\n",
    "        "
   ]
  },
  {
   "cell_type": "code",
   "execution_count": 2,
   "id": "c040140d-4581-48dd-894b-06f6bffef25d",
   "metadata": {},
   "outputs": [],
   "source": [
    "obj =example(\"soham\",\"data science\")"
   ]
  },
  {
   "cell_type": "code",
   "execution_count": 3,
   "id": "8886313f-102e-406f-9bf7-e65e14aeabe7",
   "metadata": {},
   "outputs": [
    {
     "data": {
      "text/plain": [
       "('soham', 'data science')"
      ]
     },
     "execution_count": 3,
     "metadata": {},
     "output_type": "execute_result"
    }
   ],
   "source": [
    "obj.return_details()"
   ]
  },
  {
   "cell_type": "code",
   "execution_count": 8,
   "id": "273a296f-f3ea-4163-b9b3-ac1239606a58",
   "metadata": {},
   "outputs": [
    {
     "data": {
      "text/plain": [
       "'soham'"
      ]
     },
     "execution_count": 8,
     "metadata": {},
     "output_type": "execute_result"
    }
   ],
   "source": [
    "obj.student_name"
   ]
  },
  {
   "cell_type": "code",
   "execution_count": 10,
   "id": "e3264e0e-2718-47bd-915f-2ff5df0fb839",
   "metadata": {},
   "outputs": [],
   "source": [
    "#The four pillars of object-oriented programming (OOP) are:\n",
    "# 1)Inheritance\n",
    "# 2)Encapsulation\n",
    "# 3)Polymorphism\n",
    "# 4)Abstraction\n"
   ]
  },
  {
   "cell_type": "code",
   "execution_count": 11,
   "id": "e37026c4-6316-4ab0-a4b1-089e2d6af245",
   "metadata": {},
   "outputs": [],
   "source": [
    "\"\"\"The __init__ method lets the class initialize the object's attributes and serves no other purpose\"\"\"\n",
    "\n",
    "class example:\n",
    "    def __init__(self,student_name , course_name):\n",
    "        self.student_name1=student_name\n",
    "        self.course_name1=course_name\n",
    "        \n",
    "    def return_details(self):\n",
    "        return self.student_name1,self.course_name1\n"
   ]
  },
  {
   "cell_type": "code",
   "execution_count": 12,
   "id": "3e091ecf-5b9a-4d81-86c2-b267e510cc29",
   "metadata": {},
   "outputs": [],
   "source": [
    "obj1 = example(\"soham patra\",\"web.dev\")"
   ]
  },
  {
   "cell_type": "code",
   "execution_count": 15,
   "id": "c33edc0f-547a-40b5-9b98-50acd12dc649",
   "metadata": {},
   "outputs": [
    {
     "data": {
      "text/plain": [
       "('soham', 'data science')"
      ]
     },
     "execution_count": 15,
     "metadata": {},
     "output_type": "execute_result"
    }
   ],
   "source": [
    "obj.return_details()"
   ]
  },
  {
   "cell_type": "code",
   "execution_count": 16,
   "id": "9a0cf5b3-63db-4f5d-afe7-e13da4937a8f",
   "metadata": {},
   "outputs": [
    {
     "data": {
      "text/plain": [
       "'web.dev'"
      ]
     },
     "execution_count": 16,
     "metadata": {},
     "output_type": "execute_result"
    }
   ],
   "source": [
    "obj1.course_name1"
   ]
  },
  {
   "cell_type": "code",
   "execution_count": 17,
   "id": "22ed662a-0acf-47f2-82f1-45b211679c45",
   "metadata": {},
   "outputs": [],
   "source": [
    "# self represents the instance of the class. "
   ]
  },
  {
   "cell_type": "code",
   "execution_count": 18,
   "id": "d5e9ced6-1356-4fd2-8f1b-fac9ef4030bf",
   "metadata": {},
   "outputs": [],
   "source": [
    "# Inheritance is a mechanism in which one class acquires the property of another class\n",
    "\n",
    "class class1:\n",
    "    def syllabus1(self):\n",
    "        print(\"this is the syllabus for class1\")"
   ]
  },
  {
   "cell_type": "code",
   "execution_count": 19,
   "id": "5d106294-6f73-4e71-b26d-cc58221d53a9",
   "metadata": {},
   "outputs": [],
   "source": [
    "class class2 (class1):\n",
    "    def syllabus2(self):\n",
    "        print(\"this is the syllabus for class2\")"
   ]
  },
  {
   "cell_type": "code",
   "execution_count": 20,
   "id": "06a73840-c644-4d24-8f1d-38b3156a6063",
   "metadata": {},
   "outputs": [],
   "source": [
    "class class3(class2):\n",
    "    pass"
   ]
  },
  {
   "cell_type": "code",
   "execution_count": 21,
   "id": "5032a51a-d455-420d-acd8-fc4662fe47e8",
   "metadata": {},
   "outputs": [],
   "source": [
    "obj2=class3()"
   ]
  },
  {
   "cell_type": "code",
   "execution_count": 23,
   "id": "868c18da-d4af-4961-9f88-cb2b4a1a9e54",
   "metadata": {},
   "outputs": [
    {
     "name": "stdout",
     "output_type": "stream",
     "text": [
      "this is the syllabus for class1\n"
     ]
    }
   ],
   "source": [
    "obj2.syllabus1()"
   ]
  },
  {
   "cell_type": "code",
   "execution_count": 24,
   "id": "35521057-2a93-47b8-a51b-789f149e4d4e",
   "metadata": {},
   "outputs": [
    {
     "name": "stdout",
     "output_type": "stream",
     "text": [
      "this is the syllabus for class2\n"
     ]
    }
   ],
   "source": [
    "obj2.syllabus2()"
   ]
  },
  {
   "cell_type": "code",
   "execution_count": null,
   "id": "b48c418f-7ad5-47d2-8565-063fe7552c20",
   "metadata": {},
   "outputs": [],
   "source": []
  }
 ],
 "metadata": {
  "kernelspec": {
   "display_name": "Python 3 (ipykernel)",
   "language": "python",
   "name": "python3"
  },
  "language_info": {
   "codemirror_mode": {
    "name": "ipython",
    "version": 3
   },
   "file_extension": ".py",
   "mimetype": "text/x-python",
   "name": "python",
   "nbconvert_exporter": "python",
   "pygments_lexer": "ipython3",
   "version": "3.10.8"
  }
 },
 "nbformat": 4,
 "nbformat_minor": 5
}
