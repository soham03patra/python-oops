{
 "cells": [
  {
   "cell_type": "code",
   "execution_count": 2,
   "id": "81fa870b-928b-471a-8748-f1fb36e4bf0e",
   "metadata": {},
   "outputs": [],
   "source": [
    "# Abstraction is a process of hiding the implementation details of a system from the user\n",
    "\n",
    "import abc\n",
    "class pwskills:\n",
    "    \n",
    "    @abc.abstractmethod\n",
    "    def student_details(self):\n",
    "        pass\n",
    "    \n",
    "    @abc.abstractmethod\n",
    "    def student_assignment(self):\n",
    "        pass\n",
    "    @abc.abstractmethod\n",
    "    def student_mark(self):\n",
    "        pass"
   ]
  },
  {
   "cell_type": "code",
   "execution_count": 3,
   "id": "b46b537e-8898-458c-bf2a-ed3aaf1ae1e9",
   "metadata": {},
   "outputs": [],
   "source": [
    "class student_details(pwskills):\n",
    "    def student_details(self):\n",
    "        return \"this is a method to take student details\"\n",
    "    def student_assignment(self):\n",
    "        return \"this is a method to take student assignment\""
   ]
  },
  {
   "cell_type": "code",
   "execution_count": 4,
   "id": "1d75278b-de38-45d8-a870-6611c9a51c30",
   "metadata": {},
   "outputs": [],
   "source": [
    "sd =student_details()"
   ]
  },
  {
   "cell_type": "code",
   "execution_count": 5,
   "id": "6d34ff4d-d741-4c65-9b52-68dde59ce4db",
   "metadata": {},
   "outputs": [
    {
     "data": {
      "text/plain": [
       "'this is a method to take student assignment'"
      ]
     },
     "execution_count": 5,
     "metadata": {},
     "output_type": "execute_result"
    }
   ],
   "source": [
    "sd.student_assignment()"
   ]
  },
  {
   "cell_type": "code",
   "execution_count": 7,
   "id": "b6e8308d-e2eb-48cd-b940-864d9ca62856",
   "metadata": {},
   "outputs": [
    {
     "data": {
      "text/plain": [
       "'this is a method to take student details'"
      ]
     },
     "execution_count": 7,
     "metadata": {},
     "output_type": "execute_result"
    }
   ],
   "source": [
    "sd.student_details()"
   ]
  },
  {
   "cell_type": "code",
   "execution_count": 8,
   "id": "4512f28d-b707-4036-9371-342764e3557e",
   "metadata": {},
   "outputs": [],
   "source": [
    "\"\"\"Abstraction is hiding the details and implementation of the code.\n",
    "Encapsulation is hiding the data and controlling the visibility of the code\"\"\"\n",
    "\n",
    "#example of abstraction\n",
    "import abc\n",
    "class pwskills:\n",
    "    \n",
    "    @abc.abstractmethod\n",
    "    def student_details(self):\n",
    "        pass\n",
    "    \n",
    "    @abc.abstractmethod\n",
    "    def student_assignment(self):\n",
    "        pass\n",
    "    @abc.abstractmethod\n",
    "    def student_mark(self):\n",
    "        pass"
   ]
  },
  {
   "cell_type": "code",
   "execution_count": 9,
   "id": "fc2fea2f-a402-4ae3-b3e4-f84ff1c97114",
   "metadata": {},
   "outputs": [],
   "source": [
    "class student_details(pwskills):\n",
    "    def student_details(self):\n",
    "        return \"this is a method to take student details\"\n",
    "    def student_assignment(self):\n",
    "        return \"this is a method to take student assignment\""
   ]
  },
  {
   "cell_type": "code",
   "execution_count": 10,
   "id": "ff2de476-6a59-4a28-a3cc-fa123612849d",
   "metadata": {},
   "outputs": [],
   "source": [
    "sd =student_details()"
   ]
  },
  {
   "cell_type": "code",
   "execution_count": 11,
   "id": "c9bc2166-ab28-4b46-a397-fd3cbe63432b",
   "metadata": {},
   "outputs": [
    {
     "data": {
      "text/plain": [
       "'this is a method to take student assignment'"
      ]
     },
     "execution_count": 11,
     "metadata": {},
     "output_type": "execute_result"
    }
   ],
   "source": [
    "sd.student_assignment()"
   ]
  },
  {
   "cell_type": "code",
   "execution_count": 12,
   "id": "0e6a2c98-b215-4c2b-9df5-358784b1b249",
   "metadata": {},
   "outputs": [
    {
     "data": {
      "text/plain": [
       "'this is a method to take student details'"
      ]
     },
     "execution_count": 12,
     "metadata": {},
     "output_type": "execute_result"
    }
   ],
   "source": [
    "sd.student_details()"
   ]
  },
  {
   "cell_type": "code",
   "execution_count": 13,
   "id": "697ac79c-bdc1-44e5-a5e6-945e09a58af7",
   "metadata": {},
   "outputs": [],
   "source": [
    "# example of Encapsulation\n",
    "\n",
    "class pwskills1:\n",
    "    def __init__(self,car_name,car_amount):\n",
    "        self.car_name = car_name\n",
    "        self.__car_amount = car_amount\n",
    "        \n",
    "    def car_details(self):\n",
    "        return self.car_name,self.__car_amount "
   ]
  },
  {
   "cell_type": "code",
   "execution_count": 14,
   "id": "ad8dee5a-0113-40d3-9cc1-62722a93b62e",
   "metadata": {},
   "outputs": [],
   "source": [
    "obj = pwskills1(\"toyota\",1500000)"
   ]
  },
  {
   "cell_type": "code",
   "execution_count": 16,
   "id": "b9aea74d-6291-4df0-ae69-d74947126f04",
   "metadata": {},
   "outputs": [
    {
     "data": {
      "text/plain": [
       "'toyota'"
      ]
     },
     "execution_count": 16,
     "metadata": {},
     "output_type": "execute_result"
    }
   ],
   "source": [
    "obj.car_name"
   ]
  },
  {
   "cell_type": "code",
   "execution_count": 17,
   "id": "a62ba92d-8026-4c36-ba8c-ad5760dc085a",
   "metadata": {},
   "outputs": [
    {
     "ename": "AttributeError",
     "evalue": "'pwskills1' object has no attribute 'car_amount'",
     "output_type": "error",
     "traceback": [
      "\u001b[0;31m---------------------------------------------------------------------------\u001b[0m",
      "\u001b[0;31mAttributeError\u001b[0m                            Traceback (most recent call last)",
      "Cell \u001b[0;32mIn[17], line 1\u001b[0m\n\u001b[0;32m----> 1\u001b[0m \u001b[43mobj\u001b[49m\u001b[38;5;241;43m.\u001b[39;49m\u001b[43mcar_amount\u001b[49m\n",
      "\u001b[0;31mAttributeError\u001b[0m: 'pwskills1' object has no attribute 'car_amount'"
     ]
    }
   ],
   "source": [
    "obj.car_amount"
   ]
  },
  {
   "cell_type": "code",
   "execution_count": 18,
   "id": "811417a8-6df2-469d-8546-bc38d60f1ab4",
   "metadata": {},
   "outputs": [],
   "source": [
    "#The 'abc' module in Python library provides the infrastructure for defining custom abstract base classes."
   ]
  },
  {
   "cell_type": "code",
   "execution_count": 19,
   "id": "4b42d545-38a8-4760-b97b-6e3b67498cd9",
   "metadata": {},
   "outputs": [],
   "source": [
    "#  An abstraction can be achieved using classes."
   ]
  },
  {
   "cell_type": "code",
   "execution_count": 20,
   "id": "0ade2afc-61fc-4beb-b8f1-8c30eb5f82b6",
   "metadata": {},
   "outputs": [],
   "source": [
    "# yes Can we create an instance of an abstract class.\n",
    "import abc\n",
    "class pwskills1:\n",
    "    \n",
    "    @abc.abstractmethod\n",
    "    def student_details(self):\n",
    "        pass\n",
    "    \n",
    "    @abc.abstractmethod\n",
    "    def student_assignment(self):\n",
    "        pass\n",
    "    @abc.abstractmethod\n",
    "    def student_mark(self):\n",
    "        pass\n"
   ]
  },
  {
   "cell_type": "code",
   "execution_count": 21,
   "id": "4fb1b779-9430-4e79-bf87-c8b08bc7d4da",
   "metadata": {},
   "outputs": [],
   "source": [
    "class student_details(pwskills1):\n",
    "    def student_details(self):\n",
    "        return \"this is a method to take student details\"\n",
    "    def student_assignment(self):\n",
    "        return \"this is a method to take student assignment\""
   ]
  },
  {
   "cell_type": "code",
   "execution_count": 23,
   "id": "303239b6-2821-48bd-8d13-3c35b29024dc",
   "metadata": {},
   "outputs": [],
   "source": [
    "sd1 = student_details()"
   ]
  },
  {
   "cell_type": "code",
   "execution_count": 26,
   "id": "ebd49a6e-27d7-4e95-b7ae-aa9299b8c991",
   "metadata": {},
   "outputs": [
    {
     "data": {
      "text/plain": [
       "'this is a method to take student details'"
      ]
     },
     "execution_count": 26,
     "metadata": {},
     "output_type": "execute_result"
    }
   ],
   "source": [
    "sd1.student_details()"
   ]
  },
  {
   "cell_type": "code",
   "execution_count": null,
   "id": "53c07dba-d4cc-4a8d-91d9-59bf379b694c",
   "metadata": {},
   "outputs": [],
   "source": []
  }
 ],
 "metadata": {
  "kernelspec": {
   "display_name": "Python 3 (ipykernel)",
   "language": "python",
   "name": "python3"
  },
  "language_info": {
   "codemirror_mode": {
    "name": "ipython",
    "version": 3
   },
   "file_extension": ".py",
   "mimetype": "text/x-python",
   "name": "python",
   "nbconvert_exporter": "python",
   "pygments_lexer": "ipython3",
   "version": "3.10.8"
  }
 },
 "nbformat": 4,
 "nbformat_minor": 5
}
