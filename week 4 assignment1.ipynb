{
 "cells": [
  {
   "cell_type": "code",
   "execution_count": 1,
   "id": "465891d9-c890-4f13-840e-a64f7d15461a",
   "metadata": {},
   "outputs": [],
   "source": [
    "class vehicle :\n",
    "    def __init__(self,name_of_vehicle, max_speed, average_of_vehicle):\n",
    "        self.name_of_vehicle=name_of_vehicle\n",
    "        self.max_speed=max_speed\n",
    "        self.average_of_vehicle=average_of_vehicle\n",
    "    def return_vehicle_details(self):\n",
    "        return self.name_of_vehicle,self.max_speed,self.average_of_vehicle\n",
    "        "
   ]
  },
  {
   "cell_type": "code",
   "execution_count": 2,
   "id": "1866080d-8998-4842-87fd-f238218094c3",
   "metadata": {},
   "outputs": [],
   "source": [
    "obj_vehicle=vehicle(\"toyota\",\"190kph\",\"13.4kmpl\")"
   ]
  },
  {
   "cell_type": "code",
   "execution_count": 3,
   "id": "c459e558-22c9-4186-8d08-61b87fd1e5cd",
   "metadata": {},
   "outputs": [
    {
     "data": {
      "text/plain": [
       "('toyota', '190kph', '13.4kmpl')"
      ]
     },
     "execution_count": 3,
     "metadata": {},
     "output_type": "execute_result"
    }
   ],
   "source": [
    "obj_vehicle.return_vehicle_details()"
   ]
  },
  {
   "cell_type": "code",
   "execution_count": 1,
   "id": "3318b02f-4d1d-4314-bd92-0b99d3c6f608",
   "metadata": {},
   "outputs": [],
   "source": [
    "class Vehicle:\n",
    "    def __init__(self, name_of_vehicle, max_speed, average_of_vehicle):\n",
    "        self.name_of_vehicle = name_of_vehicle\n",
    "        self.max_speed = max_speed\n",
    "        self.average_of_vehicle = average_of_vehicle\n",
    "\n",
    "\n",
    "class Car(Vehicle):\n",
    "    def seating_capacity(self, capacity):\n",
    "        return f\"{self.name_of_vehicle} has a seating capacity of {capacity}.\"\n",
    "\n",
    "\n",
    "        \n",
    "    "
   ]
  },
  {
   "cell_type": "code",
   "execution_count": 2,
   "id": "e4d9490e-891d-47ee-9f0f-daa0e8506e43",
   "metadata": {},
   "outputs": [],
   "source": [
    "CAR=Car(\"inova\",192,31)"
   ]
  },
  {
   "cell_type": "code",
   "execution_count": 3,
   "id": "f919a8c4-bf31-41b5-9be1-2ff1600d0c92",
   "metadata": {},
   "outputs": [
    {
     "data": {
      "text/plain": [
       "'inova has a seating capacity of 5.'"
      ]
     },
     "execution_count": 3,
     "metadata": {},
     "output_type": "execute_result"
    }
   ],
   "source": [
    "CAR.seating_capacity(5)"
   ]
  },
  {
   "cell_type": "code",
   "execution_count": 22,
   "id": "f6fbcc8e-01fa-4c25-a7e1-eaf3165dadc6",
   "metadata": {},
   "outputs": [],
   "source": [
    "\"\"\"When a class is derived from more than one base class it is called multiple Inheritance.\"\"\"\n",
    "\n",
    "\n",
    "class part1:\n",
    "    def part_1(self):\n",
    "        print(\"this is for part1\")"
   ]
  },
  {
   "cell_type": "code",
   "execution_count": 23,
   "id": "8a2fff57-f6ad-4386-b199-de42ec5052a1",
   "metadata": {},
   "outputs": [],
   "source": [
    "class part2:\n",
    "    def part_2(self):\n",
    "        print(\"this is for part2\")"
   ]
  },
  {
   "cell_type": "code",
   "execution_count": 24,
   "id": "d22aa931-7164-4ba5-8775-eee6986d5c03",
   "metadata": {},
   "outputs": [],
   "source": [
    "class part3 (part1,part2):\n",
    "    pass"
   ]
  },
  {
   "cell_type": "code",
   "execution_count": 25,
   "id": "af1012dc-6227-4f4e-a570-7ec1be502e7c",
   "metadata": {},
   "outputs": [],
   "source": [
    "obj_part3 = part3()"
   ]
  },
  {
   "cell_type": "code",
   "execution_count": 26,
   "id": "80ff8af7-6285-4f22-8d7d-4f68b22fbdff",
   "metadata": {},
   "outputs": [
    {
     "name": "stdout",
     "output_type": "stream",
     "text": [
      "this is for part1\n"
     ]
    }
   ],
   "source": [
    "obj_part3.part_1()"
   ]
  },
  {
   "cell_type": "code",
   "execution_count": 27,
   "id": "89ccff86-9fec-4595-8bbd-243199c68d49",
   "metadata": {},
   "outputs": [
    {
     "name": "stdout",
     "output_type": "stream",
     "text": [
      "this is for part2\n"
     ]
    }
   ],
   "source": [
    "obj_part3.part_2()"
   ]
  },
  {
   "cell_type": "code",
   "execution_count": 1,
   "id": "0dcf5d3a-e7bf-40cd-8015-8294d31bdaae",
   "metadata": {},
   "outputs": [],
   "source": [
    "\"\"\"Getter: A method that allows you to access an attribute in a given class. \n",
    "Setter: A method that allows you to set or mutate the value of an attribute in a class\"\"\"\n",
    "\n",
    "class Person:\n",
    "    def __init__(self, name, age):\n",
    "        self._name = name\n",
    "        self._age = age\n",
    "\n",
    "    def get_name(self):\n",
    "        return self._name\n",
    "\n",
    "    def set_name(self, name):\n",
    "        self._name = name\n",
    "\n"
   ]
  },
  {
   "cell_type": "code",
   "execution_count": 2,
   "id": "7389fbd9-5e09-4c3e-bac1-761215671b45",
   "metadata": {},
   "outputs": [],
   "source": [
    "obj03=Person(\"soham\",20)"
   ]
  },
  {
   "cell_type": "code",
   "execution_count": 3,
   "id": "8b3b3fa0-2fdd-45f1-931b-e42e5c92c877",
   "metadata": {},
   "outputs": [
    {
     "data": {
      "text/plain": [
       "'soham'"
      ]
     },
     "execution_count": 3,
     "metadata": {},
     "output_type": "execute_result"
    }
   ],
   "source": [
    "obj03.get_name()"
   ]
  },
  {
   "cell_type": "code",
   "execution_count": 4,
   "id": "babbffbe-ccb7-4622-911b-64884e04318d",
   "metadata": {},
   "outputs": [],
   "source": [
    "obj03.set_name(\"subham\")"
   ]
  },
  {
   "cell_type": "code",
   "execution_count": 5,
   "id": "d75a8602-08d2-4499-aa24-8847ba5187f1",
   "metadata": {},
   "outputs": [
    {
     "data": {
      "text/plain": [
       "'subham'"
      ]
     },
     "execution_count": 5,
     "metadata": {},
     "output_type": "execute_result"
    }
   ],
   "source": [
    "obj03.get_name()"
   ]
  },
  {
   "cell_type": "code",
   "execution_count": 7,
   "id": "bc108565-3804-4ad6-8e82-e3f6426a3422",
   "metadata": {},
   "outputs": [],
   "source": [
    "\"\"\"Method overriding occurs when a derived class defines a method with\n",
    "the same name as a method in its base class, thereby replacing the base\n",
    "class method's implementation\"\"\"\n",
    "\n",
    "class Animal:\n",
    "    def sound(self):\n",
    "        print(\"The animal makes a sound.\")\n",
    "\n",
    "\n",
    "class Dog(Animal):\n",
    "    def sound(self):\n",
    "        print(\"The dog barks.\")\n",
    "\n",
    "\n",
    "class Cat(Animal):\n",
    "    def sound(self):\n",
    "        print(\"The cat meows.\")\n"
   ]
  },
  {
   "cell_type": "code",
   "execution_count": 8,
   "id": "86a76800-0f04-455a-9abc-8c1457906eab",
   "metadata": {},
   "outputs": [],
   "source": [
    "animal =Animal()"
   ]
  },
  {
   "cell_type": "code",
   "execution_count": 9,
   "id": "6a73fba4-9e4b-4741-93a0-2a939066474d",
   "metadata": {},
   "outputs": [],
   "source": [
    "dog = Dog()"
   ]
  },
  {
   "cell_type": "code",
   "execution_count": 10,
   "id": "02c3f30e-a485-42b8-9978-ca9388d688c2",
   "metadata": {},
   "outputs": [],
   "source": [
    "cat = Cat()"
   ]
  },
  {
   "cell_type": "code",
   "execution_count": 11,
   "id": "e5a07bfa-04fe-45bb-82d8-d024bc3b6dfd",
   "metadata": {},
   "outputs": [
    {
     "name": "stdout",
     "output_type": "stream",
     "text": [
      "The animal makes a sound.\n"
     ]
    }
   ],
   "source": [
    "animal.sound()"
   ]
  },
  {
   "cell_type": "code",
   "execution_count": 12,
   "id": "42b303d8-afa3-4c06-9c22-c5816f570f90",
   "metadata": {},
   "outputs": [
    {
     "name": "stdout",
     "output_type": "stream",
     "text": [
      "The cat meows.\n"
     ]
    }
   ],
   "source": [
    "cat.sound()"
   ]
  },
  {
   "cell_type": "code",
   "execution_count": 13,
   "id": "9b045ae7-97e3-4305-b16e-161cf223b048",
   "metadata": {},
   "outputs": [
    {
     "name": "stdout",
     "output_type": "stream",
     "text": [
      "The dog barks.\n"
     ]
    }
   ],
   "source": [
    "dog.sound()"
   ]
  },
  {
   "cell_type": "code",
   "execution_count": null,
   "id": "40992366-e69f-4670-8c05-1ac2f1f1c6a5",
   "metadata": {},
   "outputs": [],
   "source": []
  }
 ],
 "metadata": {
  "kernelspec": {
   "display_name": "Python 3 (ipykernel)",
   "language": "python",
   "name": "python3"
  },
  "language_info": {
   "codemirror_mode": {
    "name": "ipython",
    "version": 3
   },
   "file_extension": ".py",
   "mimetype": "text/x-python",
   "name": "python",
   "nbconvert_exporter": "python",
   "pygments_lexer": "ipython3",
   "version": "3.10.8"
  }
 },
 "nbformat": 4,
 "nbformat_minor": 5
}
